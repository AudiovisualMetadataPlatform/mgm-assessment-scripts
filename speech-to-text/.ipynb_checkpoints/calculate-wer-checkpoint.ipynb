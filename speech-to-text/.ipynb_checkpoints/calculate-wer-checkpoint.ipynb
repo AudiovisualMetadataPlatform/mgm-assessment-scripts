{
 "cells": [
  {
   "cell_type": "markdown",
   "metadata": {},
   "source": [
    "Calculates word error rate (WER)"
   ]
  },
  {
   "cell_type": "code",
   "execution_count": null,
   "metadata": {},
   "outputs": [],
   "source": [
    "#run if not installed\n",
    "!pip3 install jiwer"
   ]
  },
  {
   "cell_type": "code",
   "execution_count": 2,
   "metadata": {
    "colab": {},
    "colab_type": "code",
    "id": "0d2jF7JqmD--"
   },
   "outputs": [],
   "source": [
    "# installed from: https://github.com/jitsi/asr-wer\n",
    "from jiwer import wer\n",
    "\n",
    "def getWer(gt, raw):\n",
    "    \"\"\"inputs ground truth and raw files and calculates word error rate\"\"\"\n",
    "    gt = open(gt, 'r')\n",
    "    ground_truth = gt.read()\n",
    "    hypothesis = raw.read()\n",
    "    error = wer(ground_truth, hypothesis)\n",
    "    gt.close()\n",
    "    return error"
   ]
  },
  {
   "cell_type": "code",
   "execution_count": 3,
   "metadata": {},
   "outputs": [
    {
     "data": {
      "text/plain": [
       "0.8295368671056893"
      ]
     },
     "execution_count": 3,
     "metadata": {},
     "output_type": "execute_result"
    }
   ],
   "source": [
    "#replace with two corresponding ground truth and mgm files\n",
    "gt = 'ground-truth/women-and-aids/mao_204732_v01_high.plain_text_gt.txt'\n",
    "mgm = open('aws-transcribe/women-and-aids/mao_204732_v01_high2_plaintxt.txt', 'r')\n",
    "error = getWer(gt, mgm)\n",
    "error"
   ]
  }
 ],
 "metadata": {
  "colab": {
   "name": "Calculate_WER.ipynb",
   "provenance": [],
   "version": "0.3.2"
  },
  "kernelspec": {
   "display_name": "Python 3",
   "language": "python",
   "name": "python3"
  },
  "language_info": {
   "codemirror_mode": {
    "name": "ipython",
    "version": 3
   },
   "file_extension": ".py",
   "mimetype": "text/x-python",
   "name": "python",
   "nbconvert_exporter": "python",
   "pygments_lexer": "ipython3",
   "version": "3.7.5"
  }
 },
 "nbformat": 4,
 "nbformat_minor": 1
}
