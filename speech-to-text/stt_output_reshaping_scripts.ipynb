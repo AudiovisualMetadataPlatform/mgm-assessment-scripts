{
 "cells": [
  {
   "cell_type": "markdown",
   "metadata": {
    "colab_type": "text",
    "id": "O10Vr09zlRnk"
   },
   "source": [
    "Scripts for converting output from speech-to-text tools into plain text for assessing word error rate (WER). (Mozilla Deep Speech and Kaldi output plain text by default.)"
   ]
  },
  {
   "cell_type": "markdown",
   "metadata": {
    "colab_type": "text",
    "id": "lqIjUEGhlRnm"
   },
   "source": [
    "## AWS JSON to plain text"
   ]
  },
  {
   "cell_type": "code",
   "execution_count": 4,
   "metadata": {
    "colab": {},
    "colab_type": "code",
    "id": "hEjjuQuIlRno"
   },
   "outputs": [],
   "source": [
    "import json\n",
    "\n",
    "# change inputfile for each sample transcript\n",
    "inputfile = 'aws-transcribe/women-and-aids/mao_204732_v01_high2.json'\n",
    "with open(inputfile, 'r') as f:\n",
    "    data = json.load(f)\n",
    "    \n",
    "sourcefile = inputfile[0:-5]\n",
    "\n",
    "transcript = data['results']['transcripts'][0]['transcript']\n",
    "\n",
    "# output txt file\n",
    "zfile = sourcefile + '_plaintxt.txt'\n",
    "z = open(zfile,'w')\n",
    "z.write(transcript)\n",
    "z.close()"
   ]
  },
  {
   "cell_type": "markdown",
   "metadata": {
    "colab_type": "text",
    "id": "kb3MFPyJlRnu"
   },
   "source": [
    "## Google STT to plain text"
   ]
  },
  {
   "cell_type": "code",
   "execution_count": 0,
   "metadata": {
    "colab": {},
    "colab_type": "code",
    "id": "eRRQM1VflRnv"
   },
   "outputs": [],
   "source": [
    "import json\n",
    "\n",
    "# change inputfile for each sample transcript\n",
    "inputfile = 'google-speech-to-text/astin-patten/MDPI_40000002758839_01_access_mono_speakers.json'\n",
    "with open(inputfile, 'r') as f:\n",
    "    data = json.load(f)\n",
    "\n",
    "# create a filename stem for the output file\n",
    "sourcefile = inputfile[0:-5]\n",
    "\n",
    "words = [d['alternatives'][0]['transcript'] for d in data['response']['results']]\n",
    "transcript = ' '.join(words)\n",
    "\n",
    "# output txt file\n",
    "zfile = sourcefile + '_plaintxt.txt'\n",
    "z = open(zfile,'w')\n",
    "z.write(transcript)\n",
    "z.close()"
   ]
  },
  {
   "cell_type": "markdown",
   "metadata": {
    "colab_type": "text",
    "id": "d5xiW0yGlRnz"
   },
   "source": [
    "## CMU Sphinx4 to plain text"
   ]
  },
  {
   "cell_type": "code",
   "execution_count": 3,
   "metadata": {
    "colab": {
     "base_uri": "https://localhost:8080/",
     "height": 295,
     "resources": {
      "http://localhost:8080/nbextensions/google.colab/files.js": {
       "data": "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",
       "headers": [
        [
         "content-type",
         "application/javascript"
        ]
       ],
       "ok": true,
       "status": 200,
       "status_text": ""
      }
     }
    },
    "colab_type": "code",
    "executionInfo": {
     "elapsed": 39689,
     "status": "error",
     "timestamp": 1560191213337,
     "user": {
      "displayName": "Liz Fischer",
      "photoUrl": "",
      "userId": "09271678974247347112"
     },
     "user_tz": -60
    },
    "id": "FCk5MAiClRn1",
    "outputId": "0ca33990-2878-40b4-f6fd-89269ed9d43c"
   },
   "outputs": [],
   "source": [
    "import re\n",
    "\n",
    "inputfile = 'cmu-sphinx/women-and-aids/mao_204732_v01_high_mono.txt'\n",
    "\n",
    "# create a filename stem for the output file\n",
    "sourcefile = inputfile[0:-4]\n",
    "\n",
    "#define regex for timestamp on non-transcript lines\n",
    "pattern = re.compile(\"\\d{2}:\\d{2}:\\d{2}.\\d{3}.*\")\n",
    "\n",
    "words = []\n",
    "with open(inputfile, 'r') as f:\n",
    "    for line in f:\n",
    "        if 'trieNgramModel       LM' in line:\n",
    "            text = next(f)\n",
    "            if not pattern.match(text.strip()) and not text.isspace():\n",
    "                words.append(text.replace('\\n', ''))\n",
    "transcript = ' '.join(words)\n",
    "\n",
    "zfile = sourcefile + '_plaintxt.txt'\n",
    "z = open(zfile,'w')\n",
    "z.write(transcript)\n",
    "z.close()\n"
   ]
  },
  {
   "cell_type": "markdown",
   "metadata": {
    "colab_type": "text",
    "id": "G8VsvpXqlRn6"
   },
   "source": [
    "## AWS to VTT with speakers"
   ]
  },
  {
   "cell_type": "code",
   "execution_count": 25,
   "metadata": {
    "colab": {},
    "colab_type": "code",
    "id": "yd4hAsPhlRn7"
   },
   "outputs": [],
   "source": [
    "#still needs a little work getting the timecodes formatted right\n",
    "\n",
    "import json\n",
    "from datetime import timedelta\n",
    "from decimal import Decimal\n",
    "\n",
    "#format time to 3 decimal places\n",
    "def format_time(t):\n",
    "    td = str(timedelta(seconds=float(t)))\n",
    "    #trim milliseconds\n",
    "    mssplit = td.split('.')\n",
    "    if len(mssplit) == 2:\n",
    "        strtd = td[:-3]\n",
    "    #zero fill ms\n",
    "    else:\n",
    "        strtd = mssplit[0] + '.000'\n",
    "        #zero fill hour\n",
    "    hsplit = strtd.split(':')\n",
    "    if len(hsplit[0]) == 1:\n",
    "        strtd = '0' + strtd\n",
    "    return strtd\n",
    "\n",
    "# change inputfile for each sample transcript\n",
    "inputfile = 'aws-transcribe/women-and-aids/mao_204732_v01_high.json'\n",
    "with open(inputfile, 'r') as f:\n",
    "    data = json.load(f)\n",
    "\n",
    "# create a filename stem for the output file\n",
    "sourcefile = inputfile[0:-5]\n",
    "\n",
    "segments = data['results']['speaker_labels']['segments']\n",
    "timedwords = data['results']['items']\n",
    "parts = []\n",
    "for s in segments:\n",
    "    part = {}\n",
    "    words = []\n",
    "    part['speaker'] = s['speaker_label']\n",
    "    start_time = Decimal(s['start_time'])\n",
    "    end_time = Decimal(s['end_time'])\n",
    "    for t in timedwords:\n",
    "        if 'start_time' in t:\n",
    "            wordtime = Decimal(t['start_time'])\n",
    "        if (wordtime >= start_time) and (wordtime < end_time):\n",
    "            words.append(t['alternatives'][0]['content'])                \n",
    "            #print(str(t['start_time']) + '/' + str(end_time) + ' ' + t['name'])\n",
    "        else:\n",
    "            pass\n",
    "    for w in words:\n",
    "        if w == '.':\n",
    "            index = words.index(w)\n",
    "            if index != 0:\n",
    "                words[index-1] = words[index-1] + w\n",
    "                words.remove(w)\n",
    "    part['start_time'] = format_time(start_time)\n",
    "    part['end_time'] = format_time(end_time)\n",
    "    part['words'] = ' '.join(words)\n",
    "    parts.append(part)\n",
    "\n",
    "zfile = sourcefile + '_speakers.vtt'\n",
    "with open(zfile, 'w') as v:\n",
    "    v.write('WEBVTT\\n\\n')\n",
    "    for p in parts:\n",
    "        cue = p['start_time'] + ' --> ' + p['end_time'] + '\\n'\n",
    "        text = '<v ' + p['speaker'] + '> ' + p['words'] + '\\n'\n",
    "        v.write(cue)\n",
    "        v.write(text)\n",
    "        v.write('\\n')"
   ]
  },
  {
   "cell_type": "markdown",
   "metadata": {
    "colab": {},
    "colab_type": "code",
    "id": "0n-gL8Z3lRoN"
   },
   "source": [
    "### Kaldi to VTT"
   ]
  },
  {
   "cell_type": "code",
   "execution_count": 18,
   "metadata": {},
   "outputs": [],
   "source": [
    "#Kaldi doesn't have segments, so group words by connecting words that are less that two seconds\n",
    "#apart and limit length of word strings by x seconds\n",
    "\n",
    "import json\n",
    "from datetime import timedelta\n",
    "from decimal import Decimal\n",
    "\n",
    "#format time to 3 decimal places\n",
    "def format_time(t):\n",
    "  td = str(timedelta(seconds=float(t)))\n",
    "  #trim milliseconds\n",
    "  mssplit = td.split('.')\n",
    "  if len(mssplit) == 2:\n",
    "    strtd = td[:-3]\n",
    "  #zero fill ms\n",
    "  else:\n",
    "    strtd = mssplit[0] + '.000'\n",
    "  #zero fill hour\n",
    "  hsplit = strtd.split(':')\n",
    "  if len(hsplit[0]) == 1:\n",
    "    strtd = '0' + strtd\n",
    "  return strtd\n",
    "\n",
    "# change inputfile for each sample transcript\n",
    "inputfile = 'kaldi/student-admin/MDPI_40000002604629_01_access-trim_16kHz.json'\n",
    "with open(inputfile, 'r') as f:\n",
    "    data = json.load(f)\n",
    "\n",
    "# create a filename stem for the output file\n",
    "sourcefile = inputfile[0:-5]\n",
    "\n",
    "parts = []\n",
    "part = {'start': 0, 'words': [], 'end': 0}\n",
    "wordtime = 0\n",
    "#group words into parts\n",
    "for w in data['words']:\n",
    "    if (w['time'] - wordtime > 2) or (part['end'] - part['start'] > 10):\n",
    "        if len(part['words']) > 0:\n",
    "            parts.append(part)\n",
    "        part = {'start': w['time'], 'words': [w['word']], 'end': w['time'] + float(w['duration'])}\n",
    "    else:\n",
    "        part['words'].append(w['word'])\n",
    "        part['end'] = w['time'] + float(w['duration'])\n",
    "    wordtime = w['time']\n",
    "\n",
    "#format parts as vtt\n",
    "zfile = sourcefile + '.vtt'\n",
    "with open(zfile, 'w') as v:\n",
    "    v.write('WEBVTT\\n\\n')\n",
    "    for p in parts:\n",
    "        p['start'] = format_time(p['start'])\n",
    "        p['end'] = format_time(p['end'])\n",
    "        cue = p['start'] + ' --> ' + p['end'] + '\\n'\n",
    "        text = ' '.join(p['words']) + '\\n'\n",
    "        v.write(cue)\n",
    "        v.write(text)\n",
    "        v.write('\\n')"
   ]
  }
 ],
 "metadata": {
  "colab": {
   "collapsed_sections": [
    "lqIjUEGhlRnm"
   ],
   "name": "STT_output_reshaping_scripts.ipynb",
   "provenance": [],
   "version": "0.3.2"
  },
  "kernelspec": {
   "display_name": "Python 3",
   "language": "python",
   "name": "python3"
  },
  "language_info": {
   "codemirror_mode": {
    "name": "ipython",
    "version": 3
   },
   "file_extension": ".py",
   "mimetype": "text/x-python",
   "name": "python",
   "nbconvert_exporter": "python",
   "pygments_lexer": "ipython3",
   "version": "3.7.5"
  }
 },
 "nbformat": 4,
 "nbformat_minor": 1
}
