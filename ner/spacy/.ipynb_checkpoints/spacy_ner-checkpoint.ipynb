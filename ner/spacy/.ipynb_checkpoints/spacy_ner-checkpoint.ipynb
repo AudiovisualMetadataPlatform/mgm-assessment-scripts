{
 "cells": [
  {
   "cell_type": "markdown",
   "metadata": {},
   "source": [
    "## Run SpaCy NER on plain text transcripts"
   ]
  },
  {
   "cell_type": "markdown",
   "metadata": {},
   "source": [
    "Install packages and model if not already installed"
   ]
  },
  {
   "cell_type": "code",
   "execution_count": null,
   "metadata": {},
   "outputs": [],
   "source": [
    "#installs spacy\n",
    "!pip install -U spacy\n",
    "#installs model\n",
    "!python -m spacy download en_core_web_lg\n",
    "#RESTART THE RUNTIME AFTER THIS FINISHES!"
   ]
  },
  {
   "cell_type": "code",
   "execution_count": 2,
   "metadata": {},
   "outputs": [],
   "source": [
    "import spacy\n",
    "from spacy import displacy\n",
    "import csv\n",
    "\n",
    "def outputCsv(doc, filestem):\n",
    "    \"\"\"Outputs csv file of detected entities, their types, and character offsets\"\"\"\n",
    "    entities = []\n",
    "    for token in doc.ents:\n",
    "        entity = {}\n",
    "        entity['text'] = token.text\n",
    "        entity['type'] = token.label_\n",
    "        entity['start_char'] = token.start_char\n",
    "        entity['end_char'] = token.end_char\n",
    "        entities.append(entity)\n",
    "    zname = filestem + '_spacy.csv'\n",
    "    z = open(zname, 'w')\n",
    "    fieldnames = ['text', 'type', 'start_char', 'end_char']\n",
    "    writer = csv.DictWriter(z, fieldnames=fieldnames)\n",
    "    writer.writeheader()\n",
    "    for e in entities:\n",
    "        writer.writerow(e)\n",
    "    z.close()\n",
    "\n",
    "def outputHtml(doc, filestem):\n",
    "    \"\"\"Outputs html file of DisplaCy visualization\"\"\"\n",
    "    html = displacy.render(doc, style=\"ent\", page=True)\n",
    "    zname = filestem + '_spacy.html'\n",
    "    z = open(zname, 'w')\n",
    "    z.write(html)\n",
    "    z.close()"
   ]
  },
  {
   "cell_type": "markdown",
   "metadata": {},
   "source": [
    "### Astin Patten lecture"
   ]
  },
  {
   "cell_type": "code",
   "execution_count": null,
   "metadata": {},
   "outputs": [],
   "source": [
    "#Load default model\n",
    "nlp = spacy.load('en_core_web_lg')\n",
    "\n",
    "#change the following filename for the source transcript you want to use\n",
    "filename = '../input-transcripts/ground-truth/astin-patten_gt_transcript.txt'\n",
    "filestem = filename.split('/')[-1][0:-4]\n",
    "textfile = open(filename, 'r')\n",
    "text = textfile.read()\n",
    "\n",
    "#run spacy ner\n",
    "doc = nlp(text)\n",
    "\n",
    "#optional--show visualization\n",
    "displacy.render(doc, style=\"ent\", page=True)\n",
    "\n",
    "#output csv (you may need to rename output file and move to where you want to keep it)\n",
    "outputCsv(doc, filestem)\n",
    "\n",
    "#output html of viz\n",
    "outputHtml(doc, filestem)"
   ]
  },
  {
   "cell_type": "markdown",
   "metadata": {},
   "source": [
    "### Student-Admin forum"
   ]
  },
  {
   "cell_type": "code",
   "execution_count": null,
   "metadata": {},
   "outputs": [],
   "source": [
    "#Load default model\n",
    "nlp = spacy.load('en_core_web_lg')\n",
    "\n",
    "#change the following filename for the source transcript you want to use\n",
    "filename = '../input-transcripts/ground-truth/student-admin_gt_transcript.txt'\n",
    "filestem = filename.split('/')[-1][0:-4]\n",
    "textfile = open(filename, 'r')\n",
    "text = textfile.read()\n",
    "\n",
    "#run spacy ner\n",
    "doc = nlp(text)\n",
    "\n",
    "#optional--show visualization\n",
    "displacy.render(doc, style=\"ent\", page=True)\n",
    "\n",
    "#output csv (you may need to rename output file and move to where you want to keep it)\n",
    "outputCsv(doc, filestem)\n",
    "\n",
    "#output html of viz\n",
    "outputHtml(doc, filestem)"
   ]
  },
  {
   "cell_type": "markdown",
   "metadata": {},
   "source": [
    "### Women and AIDS teach-in"
   ]
  },
  {
   "cell_type": "code",
   "execution_count": null,
   "metadata": {},
   "outputs": [],
   "source": [
    "#Load default model\n",
    "nlp = spacy.load('en_core_web_lg')\n",
    "\n",
    "#change the following filename for the source transcript you want to use\n",
    "filename = '../input-transcripts/ground-truth/women-and-aids_gt_transcript.txt'\n",
    "filestem = filename.split('/')[-1][0:-4]\n",
    "textfile = open(filename, 'r')\n",
    "text = textfile.read()\n",
    "\n",
    "#run spacy ner\n",
    "doc = nlp(text)\n",
    "\n",
    "#optional--show visualization\n",
    "displacy.render(doc, style=\"ent\", page=True)\n",
    "\n",
    "#output csv (you may need to rename output file and move to where you want to keep it)\n",
    "outputCsv(doc, filestem)\n",
    "\n",
    "#output html of viz\n",
    "outputHtml(doc, filestem)"
   ]
  }
 ],
 "metadata": {
  "kernelspec": {
   "display_name": "Python 3",
   "language": "python",
   "name": "python3"
  },
  "language_info": {
   "codemirror_mode": {
    "name": "ipython",
    "version": 3
   },
   "file_extension": ".py",
   "mimetype": "text/x-python",
   "name": "python",
   "nbconvert_exporter": "python",
   "pygments_lexer": "ipython3",
   "version": "3.7.5"
  }
 },
 "nbformat": 4,
 "nbformat_minor": 2
}
