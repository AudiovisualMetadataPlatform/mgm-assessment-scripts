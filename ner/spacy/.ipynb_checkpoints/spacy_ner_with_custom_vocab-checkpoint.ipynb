{
 "cells": [
  {
   "cell_type": "markdown",
   "metadata": {},
   "source": [
    "## Run SpaCy NER with custom vocabularies on plain text transcripts\n",
    "See `custom` folder for info on creating custom vocabularies"
   ]
  },
  {
   "cell_type": "markdown",
   "metadata": {
    "colab_type": "text",
    "id": "LKRl4tRiGlNm"
   },
   "source": [
    "Install packages and model if not already installed"
   ]
  },
  {
   "cell_type": "code",
   "execution_count": null,
   "metadata": {
    "colab": {
     "base_uri": "https://localhost:8080/",
     "height": 1000
    },
    "colab_type": "code",
    "executionInfo": {
     "elapsed": 182251,
     "status": "ok",
     "timestamp": 1582833368902,
     "user": {
      "displayName": "Shawn Averkamp",
      "photoUrl": "https://lh3.googleusercontent.com/a-/AAuE7mCftuptRQSjFgKDACLzQszKVt7GbZAoj4pyZ68u=s64",
      "userId": "09752105354454696174"
     },
     "user_tz": 300
    },
    "id": "D0DK8UQDPMWk",
    "outputId": "93a236dd-b452-49ac-fa1c-742b3f21fa02"
   },
   "outputs": [],
   "source": [
    "#installs the jsonlines package\n",
    "!pip install jsonlines\n",
    "#installs spacy\n",
    "!pip install -U spacy\n",
    "#installs model\n",
    "!python -m spacy download en_core_web_lg\n",
    "#RESTART THE RUNTIME AFTER THIS FINISHES!"
   ]
  },
  {
   "cell_type": "code",
   "execution_count": null,
   "metadata": {
    "colab": {
     "base_uri": "https://localhost:8080/",
     "height": 364
    },
    "colab_type": "code",
    "executionInfo": {
     "elapsed": 2848,
     "status": "error",
     "timestamp": 1582833113026,
     "user": {
      "displayName": "Shawn Averkamp",
      "photoUrl": "https://lh3.googleusercontent.com/a-/AAuE7mCftuptRQSjFgKDACLzQszKVt7GbZAoj4pyZ68u=s64",
      "userId": "09752105354454696174"
     },
     "user_tz": 300
    },
    "id": "zlCfDL87MMT1",
    "outputId": "b1215031-b55a-4abc-edf3-8cb61a00c9b1"
   },
   "outputs": [],
   "source": [
    "import spacy\n",
    "import jsonlines\n",
    "import os\n",
    "from spacy import displacy\n",
    "import csv\n",
    "from spacy.lang.en import English\n",
    "from spacy.pipeline import EntityRuler"
   ]
  },
  {
   "cell_type": "markdown",
   "metadata": {
    "colab_type": "text",
    "id": "RisGsMKoG0Gs"
   },
   "source": [
    "### Define functions for CSV and HTML display output"
   ]
  },
  {
   "cell_type": "code",
   "execution_count": 0,
   "metadata": {
    "colab": {},
    "colab_type": "code",
    "id": "ZuHaQyLUK2vl"
   },
   "outputs": [],
   "source": [
    "def outputCsv(doc, filestem):\n",
    "    \"\"\"Outputs csv file of detected entities, their types, and character offsets\"\"\"\n",
    "    entities = []\n",
    "    for token in doc.ents:\n",
    "        entity = {}\n",
    "        entity['text'] = token.text\n",
    "        entity['type'] = token.label_\n",
    "        entity['start_char'] = token.start_char\n",
    "        entity['end_char'] = token.end_char\n",
    "        entities.append(entity)\n",
    "    zname = 'custom/' + filestem + '_spacy_custom.csv'\n",
    "    z = open(zname, 'w')\n",
    "    fieldnames = ['text', 'type', 'start_char', 'end_char']\n",
    "    writer = csv.DictWriter(z, fieldnames=fieldnames)\n",
    "    writer.writeheader()\n",
    "    for e in entities:\n",
    "        writer.writerow(e)\n",
    "    z.close()\n",
    "\n",
    "def outputHtml(doc, filestem):\n",
    "    \"\"\"Outputs html file of DisplaCy visualization\"\"\"\n",
    "    html = displacy.render(doc, style=\"ent\", page=True)\n",
    "    zname = 'custom/' + filestem + '_spacy.html'\n",
    "    z = open(zname, 'w')\n",
    "    z.write(html)\n",
    "    z.close()"
   ]
  },
  {
   "cell_type": "markdown",
   "metadata": {
    "colab_type": "text",
    "id": "IM2cC8mgG50E"
   },
   "source": [
    "### Open and read in the text file"
   ]
  },
  {
   "cell_type": "code",
   "execution_count": null,
   "metadata": {
    "colab": {
     "base_uri": "https://localhost:8080/",
     "height": 233
    },
    "colab_type": "code",
    "executionInfo": {
     "elapsed": 311,
     "status": "error",
     "timestamp": 1582833115441,
     "user": {
      "displayName": "Shawn Averkamp",
      "photoUrl": "https://lh3.googleusercontent.com/a-/AAuE7mCftuptRQSjFgKDACLzQszKVt7GbZAoj4pyZ68u=s64",
      "userId": "09752105354454696174"
     },
     "user_tz": 300
    },
    "id": "EJ-6p_KdMQT9",
    "outputId": "99ee8d2d-48d7-420b-d154-027f2b670771"
   },
   "outputs": [],
   "source": [
    "#change the following filename for the source transcript you want to use\n",
    "textfilename = '../input-transcripts/ground-truth/astin-patten_gt_transcript.txt'\n",
    "textfile = open(textfilename, 'r')\n",
    "text = textfile.read()\n",
    "folderpath = os.path.dirname(textfilename)\n"
   ]
  },
  {
   "cell_type": "markdown",
   "metadata": {
    "colab_type": "text",
    "id": "X5exqjdQHFc0"
   },
   "source": [
    "### Create an EntityRuler instance and read in the patterns file (JSONL)\n",
    "More info on EntityRuler: https://spacy.io/usage/rule-based-matching#entityruler"
   ]
  },
  {
   "cell_type": "code",
   "execution_count": 0,
   "metadata": {
    "colab": {},
    "colab_type": "code",
    "id": "17kaBcY-QTSZ"
   },
   "outputs": [],
   "source": [
    "#create an instance of EntityRuler for the custom entities\n",
    "nlp = spacy.load('en_core_web_lg')\n",
    "ruler = EntityRuler(nlp, validate=True, overwrite_ents=True)\n",
    "\n",
    "#load the custom vocabs for IU from the appropriate patterns.jsonl file and add the ruler to the pipeline\n",
    "patternfile = 'custom/custom-vocabularies/iu_archives/patterns.jsonl'\n",
    "ruler.from_disk(patternfile)\n",
    "nlp.add_pipe(ruler)"
   ]
  },
  {
   "cell_type": "markdown",
   "metadata": {
    "colab_type": "text",
    "id": "-ZCwzzzLHQpU"
   },
   "source": [
    "### Run the NER, output results to CSV and display Displacy viz in this notebook"
   ]
  },
  {
   "cell_type": "code",
   "execution_count": null,
   "metadata": {
    "colab": {
     "base_uri": "https://localhost:8080/",
     "height": 1000
    },
    "colab_type": "code",
    "executionInfo": {
     "elapsed": 24146,
     "status": "ok",
     "timestamp": 1582819109622,
     "user": {
      "displayName": "Shawn Averkamp",
      "photoUrl": "https://lh3.googleusercontent.com/a-/AAuE7mCftuptRQSjFgKDACLzQszKVt7GbZAoj4pyZ68u=s64",
      "userId": "09752105354454696174"
     },
     "user_tz": 300
    },
    "id": "qDaKPzLHMFN2",
    "outputId": "5463be19-dabf-4f31-cbb9-1cdd28d2cd66"
   },
   "outputs": [],
   "source": [
    "#run the NER\n",
    "doc = nlp(text)\n",
    "\n",
    "#optional--show visualization below\n",
    "displacy.render(doc, style=\"ent\", jupyter=True)\n",
    "\n",
    "#output csv (you may need to rename output file and move to where you want to keep it)\n",
    "filestem = os.path.splitext(textfilename)[0]\n",
    "outputCsv(doc, filestem)\n",
    "\n",
    "#uncomment the following to write Displacy results to HTML\n",
    "outputHtml(doc, filestem)"
   ]
  }
 ],
 "metadata": {
  "colab": {
   "authorship_tag": "ABX9TyOOOoZsfvlQ73Z0KNzTomK8",
   "name": "spacy_ner_with_custom_entities.ipynb",
   "provenance": []
  },
  "kernelspec": {
   "display_name": "Python 3",
   "language": "python",
   "name": "python3"
  },
  "language_info": {
   "codemirror_mode": {
    "name": "ipython",
    "version": 3
   },
   "file_extension": ".py",
   "mimetype": "text/x-python",
   "name": "python",
   "nbconvert_exporter": "python",
   "pygments_lexer": "ipython3",
   "version": "3.7.5"
  }
 },
 "nbformat": 4,
 "nbformat_minor": 1
}
