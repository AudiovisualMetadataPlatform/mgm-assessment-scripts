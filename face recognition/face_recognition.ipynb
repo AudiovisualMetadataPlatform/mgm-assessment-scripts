{
  "nbformat": 4,
  "nbformat_minor": 0,
  "metadata": {
    "colab": {
      "name": "face-recognition.ipynb",
      "provenance": [],
      "collapsed_sections": []
    },
    "kernelspec": {
      "name": "python3",
      "display_name": "Python 3"
    },
    "widgets": {
      "application/vnd.jupyter.widget-state+json": {
        "ecb89fc20c924e3096fdc3f40e1f0715": {
          "model_module": "@jupyter-widgets/controls",
          "model_name": "HBoxModel",
          "state": {
            "_view_name": "HBoxView",
            "_dom_classes": [],
            "_model_name": "HBoxModel",
            "_view_module": "@jupyter-widgets/controls",
            "_model_module_version": "1.5.0",
            "_view_count": null,
            "_view_module_version": "1.5.0",
            "box_style": "",
            "layout": "IPY_MODEL_1ce8786cba3a4ab2a2bf12fe48d2ef18",
            "_model_module": "@jupyter-widgets/controls",
            "children": [
              "IPY_MODEL_1d91bcd597814f959838339d64936298",
              "IPY_MODEL_986885d9704d4ce798f5aa50060a85e2"
            ]
          }
        },
        "1ce8786cba3a4ab2a2bf12fe48d2ef18": {
          "model_module": "@jupyter-widgets/base",
          "model_name": "LayoutModel",
          "state": {
            "_view_name": "LayoutView",
            "grid_template_rows": null,
            "right": null,
            "justify_content": null,
            "_view_module": "@jupyter-widgets/base",
            "overflow": null,
            "_model_module_version": "1.2.0",
            "_view_count": null,
            "flex_flow": null,
            "width": null,
            "min_width": null,
            "border": null,
            "align_items": null,
            "bottom": null,
            "_model_module": "@jupyter-widgets/base",
            "top": null,
            "grid_column": null,
            "overflow_y": null,
            "overflow_x": null,
            "grid_auto_flow": null,
            "grid_area": null,
            "grid_template_columns": null,
            "flex": null,
            "_model_name": "LayoutModel",
            "justify_items": null,
            "grid_row": null,
            "max_height": null,
            "align_content": null,
            "visibility": null,
            "align_self": null,
            "height": null,
            "min_height": null,
            "padding": null,
            "grid_auto_rows": null,
            "grid_gap": null,
            "max_width": null,
            "order": null,
            "_view_module_version": "1.2.0",
            "grid_template_areas": null,
            "object_position": null,
            "object_fit": null,
            "grid_auto_columns": null,
            "margin": null,
            "display": null,
            "left": null
          }
        },
        "1d91bcd597814f959838339d64936298": {
          "model_module": "@jupyter-widgets/controls",
          "model_name": "FloatProgressModel",
          "state": {
            "_view_name": "ProgressView",
            "style": "IPY_MODEL_8ebf504dc94142828626929cb76e6f8f",
            "_dom_classes": [],
            "description": "100%",
            "_model_name": "FloatProgressModel",
            "bar_style": "success",
            "max": 9,
            "_view_module": "@jupyter-widgets/controls",
            "_model_module_version": "1.5.0",
            "value": 9,
            "_view_count": null,
            "_view_module_version": "1.5.0",
            "orientation": "horizontal",
            "min": 0,
            "description_tooltip": null,
            "_model_module": "@jupyter-widgets/controls",
            "layout": "IPY_MODEL_81ae55892d8b430f83c62c0996f88f23"
          }
        },
        "986885d9704d4ce798f5aa50060a85e2": {
          "model_module": "@jupyter-widgets/controls",
          "model_name": "HTMLModel",
          "state": {
            "_view_name": "HTMLView",
            "style": "IPY_MODEL_a7f017531e2c4ac59f2209b0669e6057",
            "_dom_classes": [],
            "description": "",
            "_model_name": "HTMLModel",
            "placeholder": "​",
            "_view_module": "@jupyter-widgets/controls",
            "_model_module_version": "1.5.0",
            "value": " 9/9 [00:53&lt;00:00,  5.92s/it]",
            "_view_count": null,
            "_view_module_version": "1.5.0",
            "description_tooltip": null,
            "_model_module": "@jupyter-widgets/controls",
            "layout": "IPY_MODEL_f865d7c842204a2e88f4441fe8861f1a"
          }
        },
        "8ebf504dc94142828626929cb76e6f8f": {
          "model_module": "@jupyter-widgets/controls",
          "model_name": "ProgressStyleModel",
          "state": {
            "_view_name": "StyleView",
            "_model_name": "ProgressStyleModel",
            "description_width": "initial",
            "_view_module": "@jupyter-widgets/base",
            "_model_module_version": "1.5.0",
            "_view_count": null,
            "_view_module_version": "1.2.0",
            "bar_color": null,
            "_model_module": "@jupyter-widgets/controls"
          }
        },
        "81ae55892d8b430f83c62c0996f88f23": {
          "model_module": "@jupyter-widgets/base",
          "model_name": "LayoutModel",
          "state": {
            "_view_name": "LayoutView",
            "grid_template_rows": null,
            "right": null,
            "justify_content": null,
            "_view_module": "@jupyter-widgets/base",
            "overflow": null,
            "_model_module_version": "1.2.0",
            "_view_count": null,
            "flex_flow": null,
            "width": null,
            "min_width": null,
            "border": null,
            "align_items": null,
            "bottom": null,
            "_model_module": "@jupyter-widgets/base",
            "top": null,
            "grid_column": null,
            "overflow_y": null,
            "overflow_x": null,
            "grid_auto_flow": null,
            "grid_area": null,
            "grid_template_columns": null,
            "flex": null,
            "_model_name": "LayoutModel",
            "justify_items": null,
            "grid_row": null,
            "max_height": null,
            "align_content": null,
            "visibility": null,
            "align_self": null,
            "height": null,
            "min_height": null,
            "padding": null,
            "grid_auto_rows": null,
            "grid_gap": null,
            "max_width": null,
            "order": null,
            "_view_module_version": "1.2.0",
            "grid_template_areas": null,
            "object_position": null,
            "object_fit": null,
            "grid_auto_columns": null,
            "margin": null,
            "display": null,
            "left": null
          }
        },
        "a7f017531e2c4ac59f2209b0669e6057": {
          "model_module": "@jupyter-widgets/controls",
          "model_name": "DescriptionStyleModel",
          "state": {
            "_view_name": "StyleView",
            "_model_name": "DescriptionStyleModel",
            "description_width": "",
            "_view_module": "@jupyter-widgets/base",
            "_model_module_version": "1.5.0",
            "_view_count": null,
            "_view_module_version": "1.2.0",
            "_model_module": "@jupyter-widgets/controls"
          }
        },
        "f865d7c842204a2e88f4441fe8861f1a": {
          "model_module": "@jupyter-widgets/base",
          "model_name": "LayoutModel",
          "state": {
            "_view_name": "LayoutView",
            "grid_template_rows": null,
            "right": null,
            "justify_content": null,
            "_view_module": "@jupyter-widgets/base",
            "overflow": null,
            "_model_module_version": "1.2.0",
            "_view_count": null,
            "flex_flow": null,
            "width": null,
            "min_width": null,
            "border": null,
            "align_items": null,
            "bottom": null,
            "_model_module": "@jupyter-widgets/base",
            "top": null,
            "grid_column": null,
            "overflow_y": null,
            "overflow_x": null,
            "grid_auto_flow": null,
            "grid_area": null,
            "grid_template_columns": null,
            "flex": null,
            "_model_name": "LayoutModel",
            "justify_items": null,
            "grid_row": null,
            "max_height": null,
            "align_content": null,
            "visibility": null,
            "align_self": null,
            "height": null,
            "min_height": null,
            "padding": null,
            "grid_auto_rows": null,
            "grid_gap": null,
            "max_width": null,
            "order": null,
            "_view_module_version": "1.2.0",
            "grid_template_areas": null,
            "object_position": null,
            "object_fit": null,
            "grid_auto_columns": null,
            "margin": null,
            "display": null,
            "left": null
          }
        },
        "a4d1e7e40b744b8fbabe6bc956d95e52": {
          "model_module": "@jupyter-widgets/controls",
          "model_name": "HBoxModel",
          "state": {
            "_view_name": "HBoxView",
            "_dom_classes": [],
            "_model_name": "HBoxModel",
            "_view_module": "@jupyter-widgets/controls",
            "_model_module_version": "1.5.0",
            "_view_count": null,
            "_view_module_version": "1.5.0",
            "box_style": "",
            "layout": "IPY_MODEL_8f5f1ce784bd4dd99de8de90084eedfc",
            "_model_module": "@jupyter-widgets/controls",
            "children": [
              "IPY_MODEL_4283ab397bed486b95a53b829e9aa389",
              "IPY_MODEL_57bdda53f75c4c828b067dcbbec50dea"
            ]
          }
        },
        "8f5f1ce784bd4dd99de8de90084eedfc": {
          "model_module": "@jupyter-widgets/base",
          "model_name": "LayoutModel",
          "state": {
            "_view_name": "LayoutView",
            "grid_template_rows": null,
            "right": null,
            "justify_content": null,
            "_view_module": "@jupyter-widgets/base",
            "overflow": null,
            "_model_module_version": "1.2.0",
            "_view_count": null,
            "flex_flow": null,
            "width": null,
            "min_width": null,
            "border": null,
            "align_items": null,
            "bottom": null,
            "_model_module": "@jupyter-widgets/base",
            "top": null,
            "grid_column": null,
            "overflow_y": null,
            "overflow_x": null,
            "grid_auto_flow": null,
            "grid_area": null,
            "grid_template_columns": null,
            "flex": null,
            "_model_name": "LayoutModel",
            "justify_items": null,
            "grid_row": null,
            "max_height": null,
            "align_content": null,
            "visibility": null,
            "align_self": null,
            "height": null,
            "min_height": null,
            "padding": null,
            "grid_auto_rows": null,
            "grid_gap": null,
            "max_width": null,
            "order": null,
            "_view_module_version": "1.2.0",
            "grid_template_areas": null,
            "object_position": null,
            "object_fit": null,
            "grid_auto_columns": null,
            "margin": null,
            "display": null,
            "left": null
          }
        },
        "4283ab397bed486b95a53b829e9aa389": {
          "model_module": "@jupyter-widgets/controls",
          "model_name": "FloatProgressModel",
          "state": {
            "_view_name": "ProgressView",
            "style": "IPY_MODEL_7b2489ca806c4fd48290591d652d6851",
            "_dom_classes": [],
            "description": "100%",
            "_model_name": "FloatProgressModel",
            "bar_style": "success",
            "max": 42,
            "_view_module": "@jupyter-widgets/controls",
            "_model_module_version": "1.5.0",
            "value": 42,
            "_view_count": null,
            "_view_module_version": "1.5.0",
            "orientation": "horizontal",
            "min": 0,
            "description_tooltip": null,
            "_model_module": "@jupyter-widgets/controls",
            "layout": "IPY_MODEL_35c0688df6124e778e94480aebebf974"
          }
        },
        "57bdda53f75c4c828b067dcbbec50dea": {
          "model_module": "@jupyter-widgets/controls",
          "model_name": "HTMLModel",
          "state": {
            "_view_name": "HTMLView",
            "style": "IPY_MODEL_e83be791d80b43999fc6a8c603287a77",
            "_dom_classes": [],
            "description": "",
            "_model_name": "HTMLModel",
            "placeholder": "​",
            "_view_module": "@jupyter-widgets/controls",
            "_model_module_version": "1.5.0",
            "value": " 42/42 [00:57&lt;00:00,  1.38s/it]",
            "_view_count": null,
            "_view_module_version": "1.5.0",
            "description_tooltip": null,
            "_model_module": "@jupyter-widgets/controls",
            "layout": "IPY_MODEL_d81a4a15ac254e4eb3b6086e275237c6"
          }
        },
        "7b2489ca806c4fd48290591d652d6851": {
          "model_module": "@jupyter-widgets/controls",
          "model_name": "ProgressStyleModel",
          "state": {
            "_view_name": "StyleView",
            "_model_name": "ProgressStyleModel",
            "description_width": "initial",
            "_view_module": "@jupyter-widgets/base",
            "_model_module_version": "1.5.0",
            "_view_count": null,
            "_view_module_version": "1.2.0",
            "bar_color": null,
            "_model_module": "@jupyter-widgets/controls"
          }
        },
        "35c0688df6124e778e94480aebebf974": {
          "model_module": "@jupyter-widgets/base",
          "model_name": "LayoutModel",
          "state": {
            "_view_name": "LayoutView",
            "grid_template_rows": null,
            "right": null,
            "justify_content": null,
            "_view_module": "@jupyter-widgets/base",
            "overflow": null,
            "_model_module_version": "1.2.0",
            "_view_count": null,
            "flex_flow": null,
            "width": null,
            "min_width": null,
            "border": null,
            "align_items": null,
            "bottom": null,
            "_model_module": "@jupyter-widgets/base",
            "top": null,
            "grid_column": null,
            "overflow_y": null,
            "overflow_x": null,
            "grid_auto_flow": null,
            "grid_area": null,
            "grid_template_columns": null,
            "flex": null,
            "_model_name": "LayoutModel",
            "justify_items": null,
            "grid_row": null,
            "max_height": null,
            "align_content": null,
            "visibility": null,
            "align_self": null,
            "height": null,
            "min_height": null,
            "padding": null,
            "grid_auto_rows": null,
            "grid_gap": null,
            "max_width": null,
            "order": null,
            "_view_module_version": "1.2.0",
            "grid_template_areas": null,
            "object_position": null,
            "object_fit": null,
            "grid_auto_columns": null,
            "margin": null,
            "display": null,
            "left": null
          }
        },
        "e83be791d80b43999fc6a8c603287a77": {
          "model_module": "@jupyter-widgets/controls",
          "model_name": "DescriptionStyleModel",
          "state": {
            "_view_name": "StyleView",
            "_model_name": "DescriptionStyleModel",
            "description_width": "",
            "_view_module": "@jupyter-widgets/base",
            "_model_module_version": "1.5.0",
            "_view_count": null,
            "_view_module_version": "1.2.0",
            "_model_module": "@jupyter-widgets/controls"
          }
        },
        "d81a4a15ac254e4eb3b6086e275237c6": {
          "model_module": "@jupyter-widgets/base",
          "model_name": "LayoutModel",
          "state": {
            "_view_name": "LayoutView",
            "grid_template_rows": null,
            "right": null,
            "justify_content": null,
            "_view_module": "@jupyter-widgets/base",
            "overflow": null,
            "_model_module_version": "1.2.0",
            "_view_count": null,
            "flex_flow": null,
            "width": null,
            "min_width": null,
            "border": null,
            "align_items": null,
            "bottom": null,
            "_model_module": "@jupyter-widgets/base",
            "top": null,
            "grid_column": null,
            "overflow_y": null,
            "overflow_x": null,
            "grid_auto_flow": null,
            "grid_area": null,
            "grid_template_columns": null,
            "flex": null,
            "_model_name": "LayoutModel",
            "justify_items": null,
            "grid_row": null,
            "max_height": null,
            "align_content": null,
            "visibility": null,
            "align_self": null,
            "height": null,
            "min_height": null,
            "padding": null,
            "grid_auto_rows": null,
            "grid_gap": null,
            "max_width": null,
            "order": null,
            "_view_module_version": "1.2.0",
            "grid_template_areas": null,
            "object_position": null,
            "object_fit": null,
            "grid_auto_columns": null,
            "margin": null,
            "display": null,
            "left": null
          }
        },
        "69cd7f401e214e468c971f4ff93e3ca7": {
          "model_module": "@jupyter-widgets/controls",
          "model_name": "HBoxModel",
          "state": {
            "_view_name": "HBoxView",
            "_dom_classes": [],
            "_model_name": "HBoxModel",
            "_view_module": "@jupyter-widgets/controls",
            "_model_module_version": "1.5.0",
            "_view_count": null,
            "_view_module_version": "1.5.0",
            "box_style": "",
            "layout": "IPY_MODEL_d4a883f11fd24e7f8385c89f2f5b735c",
            "_model_module": "@jupyter-widgets/controls",
            "children": [
              "IPY_MODEL_ced86ed23bc84fb0b58961482a014c82",
              "IPY_MODEL_97ece86dfd73495e9b6b93691bed717e"
            ]
          }
        },
        "d4a883f11fd24e7f8385c89f2f5b735c": {
          "model_module": "@jupyter-widgets/base",
          "model_name": "LayoutModel",
          "state": {
            "_view_name": "LayoutView",
            "grid_template_rows": null,
            "right": null,
            "justify_content": null,
            "_view_module": "@jupyter-widgets/base",
            "overflow": null,
            "_model_module_version": "1.2.0",
            "_view_count": null,
            "flex_flow": null,
            "width": null,
            "min_width": null,
            "border": null,
            "align_items": null,
            "bottom": null,
            "_model_module": "@jupyter-widgets/base",
            "top": null,
            "grid_column": null,
            "overflow_y": null,
            "overflow_x": null,
            "grid_auto_flow": null,
            "grid_area": null,
            "grid_template_columns": null,
            "flex": null,
            "_model_name": "LayoutModel",
            "justify_items": null,
            "grid_row": null,
            "max_height": null,
            "align_content": null,
            "visibility": null,
            "align_self": null,
            "height": null,
            "min_height": null,
            "padding": null,
            "grid_auto_rows": null,
            "grid_gap": null,
            "max_width": null,
            "order": null,
            "_view_module_version": "1.2.0",
            "grid_template_areas": null,
            "object_position": null,
            "object_fit": null,
            "grid_auto_columns": null,
            "margin": null,
            "display": null,
            "left": null
          }
        },
        "ced86ed23bc84fb0b58961482a014c82": {
          "model_module": "@jupyter-widgets/controls",
          "model_name": "FloatProgressModel",
          "state": {
            "_view_name": "ProgressView",
            "style": "IPY_MODEL_b69d57209a554150b368e6b1758b061d",
            "_dom_classes": [],
            "description": "100%",
            "_model_name": "FloatProgressModel",
            "bar_style": "success",
            "max": 114082,
            "_view_module": "@jupyter-widgets/controls",
            "_model_module_version": "1.5.0",
            "value": 114082,
            "_view_count": null,
            "_view_module_version": "1.5.0",
            "orientation": "horizontal",
            "min": 0,
            "description_tooltip": null,
            "_model_module": "@jupyter-widgets/controls",
            "layout": "IPY_MODEL_786b65bca7414c55a2fd7a66776d12a2"
          }
        },
        "97ece86dfd73495e9b6b93691bed717e": {
          "model_module": "@jupyter-widgets/controls",
          "model_name": "HTMLModel",
          "state": {
            "_view_name": "HTMLView",
            "style": "IPY_MODEL_78923440879e463494c8aa0d6309951a",
            "_dom_classes": [],
            "description": "",
            "_model_name": "HTMLModel",
            "placeholder": "​",
            "_view_module": "@jupyter-widgets/controls",
            "_model_module_version": "1.5.0",
            "value": " 114082/114082 [45:01&lt;00:00, 42.23it/s]",
            "_view_count": null,
            "_view_module_version": "1.5.0",
            "description_tooltip": null,
            "_model_module": "@jupyter-widgets/controls",
            "layout": "IPY_MODEL_ad5e257fe3d649499a6bddd747d4a1d0"
          }
        },
        "b69d57209a554150b368e6b1758b061d": {
          "model_module": "@jupyter-widgets/controls",
          "model_name": "ProgressStyleModel",
          "state": {
            "_view_name": "StyleView",
            "_model_name": "ProgressStyleModel",
            "description_width": "initial",
            "_view_module": "@jupyter-widgets/base",
            "_model_module_version": "1.5.0",
            "_view_count": null,
            "_view_module_version": "1.2.0",
            "bar_color": null,
            "_model_module": "@jupyter-widgets/controls"
          }
        },
        "786b65bca7414c55a2fd7a66776d12a2": {
          "model_module": "@jupyter-widgets/base",
          "model_name": "LayoutModel",
          "state": {
            "_view_name": "LayoutView",
            "grid_template_rows": null,
            "right": null,
            "justify_content": null,
            "_view_module": "@jupyter-widgets/base",
            "overflow": null,
            "_model_module_version": "1.2.0",
            "_view_count": null,
            "flex_flow": null,
            "width": null,
            "min_width": null,
            "border": null,
            "align_items": null,
            "bottom": null,
            "_model_module": "@jupyter-widgets/base",
            "top": null,
            "grid_column": null,
            "overflow_y": null,
            "overflow_x": null,
            "grid_auto_flow": null,
            "grid_area": null,
            "grid_template_columns": null,
            "flex": null,
            "_model_name": "LayoutModel",
            "justify_items": null,
            "grid_row": null,
            "max_height": null,
            "align_content": null,
            "visibility": null,
            "align_self": null,
            "height": null,
            "min_height": null,
            "padding": null,
            "grid_auto_rows": null,
            "grid_gap": null,
            "max_width": null,
            "order": null,
            "_view_module_version": "1.2.0",
            "grid_template_areas": null,
            "object_position": null,
            "object_fit": null,
            "grid_auto_columns": null,
            "margin": null,
            "display": null,
            "left": null
          }
        },
        "78923440879e463494c8aa0d6309951a": {
          "model_module": "@jupyter-widgets/controls",
          "model_name": "DescriptionStyleModel",
          "state": {
            "_view_name": "StyleView",
            "_model_name": "DescriptionStyleModel",
            "description_width": "",
            "_view_module": "@jupyter-widgets/base",
            "_model_module_version": "1.5.0",
            "_view_count": null,
            "_view_module_version": "1.2.0",
            "_model_module": "@jupyter-widgets/controls"
          }
        },
        "ad5e257fe3d649499a6bddd747d4a1d0": {
          "model_module": "@jupyter-widgets/base",
          "model_name": "LayoutModel",
          "state": {
            "_view_name": "LayoutView",
            "grid_template_rows": null,
            "right": null,
            "justify_content": null,
            "_view_module": "@jupyter-widgets/base",
            "overflow": null,
            "_model_module_version": "1.2.0",
            "_view_count": null,
            "flex_flow": null,
            "width": null,
            "min_width": null,
            "border": null,
            "align_items": null,
            "bottom": null,
            "_model_module": "@jupyter-widgets/base",
            "top": null,
            "grid_column": null,
            "overflow_y": null,
            "overflow_x": null,
            "grid_auto_flow": null,
            "grid_area": null,
            "grid_template_columns": null,
            "flex": null,
            "_model_name": "LayoutModel",
            "justify_items": null,
            "grid_row": null,
            "max_height": null,
            "align_content": null,
            "visibility": null,
            "align_self": null,
            "height": null,
            "min_height": null,
            "padding": null,
            "grid_auto_rows": null,
            "grid_gap": null,
            "max_width": null,
            "order": null,
            "_view_module_version": "1.2.0",
            "grid_template_areas": null,
            "object_position": null,
            "object_fit": null,
            "grid_auto_columns": null,
            "margin": null,
            "display": null,
            "left": null
          }
        }
      }
    },
    "accelerator": "GPU"
  },
  "cells": [
    {
      "cell_type": "markdown",
      "metadata": {
        "id": "fJFQrKql9mMb"
      },
      "source": [
        "#To Use\n",
        "First run all **Installs & Imports** cells\n",
        "\n",
        "Then, for training run all **Train** cells with the appropriate variable adjusted (see below)\n",
        "\n",
        "For recognition, run all **Recognition Functions** cells, then either the \"all videos\" or \"one video\" cell under **Run on videos**\n",
        "\n",
        "#Docs\n",
        "`face_recognition` library docs: https://face-recognition.readthedocs.io/en/latest/face_recognition.html"
      ]
    },
    {
      "cell_type": "markdown",
      "metadata": {
        "id": "c3Qe18173kHu"
      },
      "source": [
        "# Installs & Imports"
      ]
    },
    {
      "cell_type": "code",
      "metadata": {
        "id": "clCoXzNU_T6O",
        "colab": {
          "base_uri": "https://localhost:8080/"
        },
        "outputId": "6ee92371-cc69-4f7f-c997-4d486f184742"
      },
      "source": [
        "from google.colab import drive\n",
        "drive.mount('/content/drive')"
      ],
      "execution_count": null,
      "outputs": [
        {
          "output_type": "stream",
          "text": [
            "Mounted at /content/drive\n"
          ],
          "name": "stdout"
        }
      ]
    },
    {
      "cell_type": "code",
      "metadata": {
        "id": "_pnvc1I3WAiu",
        "colab": {
          "base_uri": "https://localhost:8080/"
        },
        "outputId": "55d40e84-e7a4-4b91-9d25-0d17ac960f37"
      },
      "source": [
        "%ls\n",
        "%cd \"drive/My Drive/_AMPPD TEAM SHARED FOLDER/MGMs/Facial recognition\""
      ],
      "execution_count": null,
      "outputs": [
        {
          "output_type": "stream",
          "text": [
            "\u001b[0m\u001b[01;34mdrive\u001b[0m/  \u001b[01;34msample_data\u001b[0m/\n",
            "[Errno 2] No such file or directory: 'drive/My Drive/_AMPPD TEAM SHARED FOLDER/MGMs/Facial recognit'\n",
            "/content\n"
          ],
          "name": "stdout"
        }
      ]
    },
    {
      "cell_type": "code",
      "metadata": {
        "id": "TEmwkx1o3c2A",
        "colab": {
          "base_uri": "https://localhost:8080/"
        },
        "outputId": "2dbfaf53-cc68-47e0-edde-78c59e0f4989"
      },
      "source": [
        "!pip install face_recognition\n",
        "!pip install opencv-python\n",
        "!cd \"/drive/My Drive/_AMPPD TEAM SHARED FOLDER\""
      ],
      "execution_count": null,
      "outputs": [
        {
          "output_type": "stream",
          "text": [
            "Collecting face_recognition\n",
            "  Downloading https://files.pythonhosted.org/packages/1e/95/f6c9330f54ab07bfa032bf3715c12455a381083125d8880c43cbe76bb3d0/face_recognition-1.3.0-py2.py3-none-any.whl\n",
            "Requirement already satisfied: dlib>=19.7 in /usr/local/lib/python3.6/dist-packages (from face_recognition) (19.18.0)\n",
            "Requirement already satisfied: numpy in /usr/local/lib/python3.6/dist-packages (from face_recognition) (1.18.5)\n",
            "Collecting face-recognition-models>=0.3.0\n",
            "\u001b[?25l  Downloading https://files.pythonhosted.org/packages/cf/3b/4fd8c534f6c0d1b80ce0973d01331525538045084c73c153ee6df20224cf/face_recognition_models-0.3.0.tar.gz (100.1MB)\n",
            "\u001b[K     |████████████████████████████████| 100.2MB 73kB/s \n",
            "\u001b[?25hRequirement already satisfied: Pillow in /usr/local/lib/python3.6/dist-packages (from face_recognition) (7.0.0)\n",
            "Requirement already satisfied: Click>=6.0 in /usr/local/lib/python3.6/dist-packages (from face_recognition) (7.1.2)\n",
            "Building wheels for collected packages: face-recognition-models\n",
            "  Building wheel for face-recognition-models (setup.py) ... \u001b[?25l\u001b[?25hdone\n",
            "  Created wheel for face-recognition-models: filename=face_recognition_models-0.3.0-py2.py3-none-any.whl size=100566173 sha256=c479271ddbcb3d30d086569ed077b2c242635d436c07e711a7aca11a99abd41a\n",
            "  Stored in directory: /root/.cache/pip/wheels/d2/99/18/59c6c8f01e39810415c0e63f5bede7d83dfb0ffc039865465f\n",
            "Successfully built face-recognition-models\n",
            "Installing collected packages: face-recognition-models, face-recognition\n",
            "Successfully installed face-recognition-1.3.0 face-recognition-models-0.3.0\n",
            "Requirement already satisfied: opencv-python in /usr/local/lib/python3.6/dist-packages (4.1.2.30)\n",
            "Requirement already satisfied: numpy>=1.11.3 in /usr/local/lib/python3.6/dist-packages (from opencv-python) (1.18.5)\n",
            "/bin/bash: line 0: cd: /drive/My Drive/_AMPPD TEAM SHARED FOLDER: No such file or directory\n"
          ],
          "name": "stdout"
        }
      ]
    },
    {
      "cell_type": "code",
      "metadata": {
        "id": "oXO4HQKS9ULt",
        "colab": {
          "base_uri": "https://localhost:8080/"
        },
        "outputId": "003399b0-a73e-4be7-a853-1a79cc1d8b93"
      },
      "source": [
        "import face_recognition\n",
        "import cv2\n",
        "import os \n",
        "import pickle\n",
        "from tqdm.notebook import tqdm\n",
        "\n",
        "%cd \"/content/drive/My Drive/_AMPPD TEAM SHARED FOLDER/MGMs/Facial recognition\""
      ],
      "execution_count": null,
      "outputs": [
        {
          "output_type": "stream",
          "text": [
            "/content/drive/My Drive/_AMPPD TEAM SHARED FOLDER/MGMs/Facial recognition\n"
          ],
          "name": "stdout"
        }
      ]
    },
    {
      "cell_type": "markdown",
      "metadata": {
        "id": "VeEVN1SLwmMg"
      },
      "source": [
        "# Train"
      ]
    },
    {
      "cell_type": "markdown",
      "metadata": {
        "id": "B7nJZF_amJ2Q"
      },
      "source": [
        "These cells handle training a model on the images provided in for each name in `people`. Training images should be kept in a folder called `{name}Photos` where `{name}` is the label provided in `people`.\n"
      ]
    },
    {
      "cell_type": "code",
      "metadata": {
        "id": "wXN7wGYjwnrW",
        "colab": {
          "base_uri": "https://localhost:8080/",
          "height": 200,
          "referenced_widgets": [
            "ecb89fc20c924e3096fdc3f40e1f0715",
            "1ce8786cba3a4ab2a2bf12fe48d2ef18",
            "1d91bcd597814f959838339d64936298",
            "986885d9704d4ce798f5aa50060a85e2",
            "8ebf504dc94142828626929cb76e6f8f",
            "81ae55892d8b430f83c62c0996f88f23",
            "a7f017531e2c4ac59f2209b0669e6057",
            "f865d7c842204a2e88f4441fe8861f1a",
            "a4d1e7e40b744b8fbabe6bc956d95e52",
            "8f5f1ce784bd4dd99de8de90084eedfc",
            "4283ab397bed486b95a53b829e9aa389",
            "57bdda53f75c4c828b067dcbbec50dea",
            "7b2489ca806c4fd48290591d652d6851",
            "35c0688df6124e778e94480aebebf974",
            "e83be791d80b43999fc6a8c603287a77",
            "d81a4a15ac254e4eb3b6086e275237c6"
          ]
        },
        "outputId": "fa7346c7-7fb1-43fb-8b32-005365926b13"
      },
      "source": [
        "from sklearn import svm\n",
        "import os\n",
        "import face_recognition\n",
        "\n",
        "known_faces = [] \n",
        "\n",
        "# Labels\n",
        "people = [\"CharlieNelms\", \"HermanBWells\"]\n",
        "\n",
        "# Images\n",
        "for name in people:\n",
        "  image_dir = f\"/content/drive/My Drive/_AMPPD TEAM SHARED FOLDER/MGMs/Facial recognition/{name}Photos/\"\n",
        "  images = [f for f in os.listdir(image_dir) if os.path.isfile(image_dir+f)]\n",
        "  for img in tqdm(images):\n",
        "    path = f\"/content/drive/My Drive/_AMPPD TEAM SHARED FOLDER/MGMs/Facial recognition/{name}Photos/\" + img\n",
        "    face = face_recognition.load_image_file(path)\n",
        "    face_bounding_boxes = face_recognition.face_locations(face) # Find faces in the picture\n",
        "\n",
        "    #If training image contains exactly one face\n",
        "    if len(face_bounding_boxes) == 1:\n",
        "      face_enc = face_recognition.face_encodings(face)[0]\n",
        "      # Add face encoding for current image with corresponding label (name) to the training data\n",
        "      known_faces.append({\"encoding\": face_enc, \"name\": name})\n",
        "    else:\n",
        "      print(img + \" was skipped and can't be used for training\")"
      ],
      "execution_count": null,
      "outputs": [
        {
          "output_type": "display_data",
          "data": {
            "application/vnd.jupyter.widget-view+json": {
              "model_id": "ecb89fc20c924e3096fdc3f40e1f0715",
              "version_minor": 0,
              "version_major": 2
            },
            "text/plain": [
              "HBox(children=(FloatProgress(value=0.0, max=9.0), HTML(value='')))"
            ]
          },
          "metadata": {
            "tags": []
          }
        },
        {
          "output_type": "stream",
          "text": [
            "\n"
          ],
          "name": "stdout"
        },
        {
          "output_type": "display_data",
          "data": {
            "application/vnd.jupyter.widget-view+json": {
              "model_id": "a4d1e7e40b744b8fbabe6bc956d95e52",
              "version_minor": 0,
              "version_major": 2
            },
            "text/plain": [
              "HBox(children=(FloatProgress(value=0.0, max=42.0), HTML(value='')))"
            ]
          },
          "metadata": {
            "tags": []
          }
        },
        {
          "output_type": "stream",
          "text": [
            "HermanWells_1947_01.jpg was skipped and can't be used for training\n",
            "HermanWells_1956.jpg was skipped and can't be used for training\n",
            "HermanWells_1974.jpg was skipped and can't be used for training\n",
            "HermanWells_1986.jpg was skipped and can't be used for training\n",
            "HermanWells_1960.jpg was skipped and can't be used for training\n",
            "\n"
          ],
          "name": "stdout"
        }
      ]
    },
    {
      "cell_type": "code",
      "metadata": {
        "id": "A3xZZR7d2inm"
      },
      "source": [
        "# Save model to file\n",
        "\n",
        "import pickle\n",
        "\n",
        "pickle.dump(known_faces, open(\"model.p\", \"wb\"))"
      ],
      "execution_count": null,
      "outputs": []
    },
    {
      "cell_type": "markdown",
      "metadata": {
        "id": "PSejuyvv0PtQ"
      },
      "source": [
        "# Recognition Functions"
      ]
    },
    {
      "cell_type": "markdown",
      "metadata": {
        "id": "e0VQ35TOmzns"
      },
      "source": [
        "These cells define functions for recognizing faces in provided `video_path` and outputs the resulting timestamps to `output_file`. Uses faces known by the model specified in `model`."
      ]
    },
    {
      "cell_type": "code",
      "metadata": {
        "id": "5Vv4Was20QD0"
      },
      "source": [
        "# UTILITY FUNCTIONS\n",
        "\n",
        "def frame_to_time(frames, fps):\n",
        "  h =  int(frames/(3600*fps))\n",
        "  m = int(frames/(60*fps) % 60)\n",
        "  s = int(frames/fps % 60)\n",
        "  return ( \"%02d:%02d:%02d\" % ( h, m, s))\n",
        "\n",
        "def time_to_frame(timecode, fps):\n",
        "  h,m,s = timecode.split(\":\")\n",
        "  seconds = (int(h)*3600) + (int(m)*60) + int(s)\n",
        "  return seconds*fps\n",
        "\n",
        "def time_to_seconds(timecode):\n",
        "  h,m,s = timecode.split(\":\")\n",
        "  return (int(h)*3600) + (int(m)*60) + int(s)\n",
        "\n",
        "def seconds_to_timecode(seconds):\n",
        "  h = seconds/3600\n",
        "  m = (seconds/60) % 60\n",
        "  s = seconds % 60\n",
        "  return ( \"%02d:%02d:%02d\" % ( h, m, s))"
      ],
      "execution_count": null,
      "outputs": []
    },
    {
      "cell_type": "code",
      "metadata": {
        "id": "tsNVKcGYw6WA"
      },
      "source": [
        "# MAIN RECOGNITION FUNCTION \n",
        "\n",
        "from matplotlib import pyplot as plt\n",
        "import pickle\n",
        "\n",
        "def do_recognize(video_path, output_file, tolerance):\n",
        "  # Initialize some variables\n",
        "  face_locations = []\n",
        "  face_encodings = []\n",
        "  frame_number = 0\n",
        "\n",
        "  # Load Model\n",
        "  model = pickle.load(open(\"model.p\", \"rb\"))\n",
        "  known_faces = [face[\"encoding\"] for face in model]\n",
        "  known_names = [face[\"name\"] for face in model]\n",
        "\n",
        "  # Initialize results list\n",
        "  results = []\n",
        "\n",
        "  # Open the input movie file\n",
        "  input_movie = cv2.VideoCapture(video_path)\n",
        "  length = int(input_movie.get(cv2.CAP_PROP_FRAME_COUNT))\n",
        "  fps = input_movie.get(cv2.CAP_PROP_FPS)\n",
        "\n",
        "  for i in tqdm(range(0,length)):\n",
        "      # Grab a single frame of video\n",
        "      ret, frame = input_movie.read()\n",
        "      frame_number += 1\n",
        "      # Quit when the input video file ends\n",
        "      if not ret:\n",
        "          break\n",
        "\n",
        "      # Skip FR in every nth frame\n",
        "      n = int(fps)\n",
        "      if frame_number % n != 0:\n",
        "        continue\n",
        "\n",
        "      # Convert the image from BGR color (which OpenCV uses) to RGB color (which face_recognition uses)\n",
        "      rgb_frame = frame[:, :, ::-1]\n",
        "\n",
        "      # Find all the faces and face encodings in the current frame of video\n",
        "      face_locations = face_recognition.face_locations(rgb_frame)\n",
        "      face_encodings = face_recognition.face_encodings(rgb_frame, face_locations)\n",
        "\n",
        "      for face_encoding in face_encodings:\n",
        "          # See if the face is a match for the known face(s)\n",
        "          match = face_recognition.compare_faces(known_faces, face_encoding, tolerance=tolerance)\n",
        "          if any(match):\n",
        "            encoding_index = match.index(True)\n",
        "            timecode = frame_to_time(frame_number, fps)\n",
        "            results.append([timecode, known_names[encoding_index]])\n",
        "\n",
        "  # All done!\n",
        "  input_movie.release()\n",
        "  cv2.destroyAllWindows()\n",
        "\n",
        "\n",
        "  with open(output_file, \"w\") as f:\n",
        "    for r in results:\n",
        "      f.write(f\"{r[0]}\\t{r[1]}\\n\") "
      ],
      "execution_count": null,
      "outputs": []
    },
    {
      "cell_type": "markdown",
      "metadata": {
        "id": "0hy42x-KDoBn"
      },
      "source": [
        "# Run on videos"
      ]
    },
    {
      "cell_type": "markdown",
      "metadata": {
        "id": "TjDkQpY6nLCq"
      },
      "source": [
        "These cells run the above-defined recognition functions. \n",
        "\n",
        "\n",
        "The first runs recognition on all the videos in the `video_dir` folder & output all the results to `output_dir`\n",
        "\n",
        "The second runs on a single video specified by `filename` and outputs to the specified `output` file.\n"
      ]
    },
    {
      "cell_type": "code",
      "metadata": {
        "id": "yjSgrdsuC8CN"
      },
      "source": [
        "# All videos \n",
        "import os\n",
        "\n",
        "tolerance = 0.4\n",
        "video_dir = \"/content/drive/My Drive/_AMPPD TEAM SHARED FOLDER/MGMs/Facial recognition/CharlieNelmsVideos/\"\n",
        "\n",
        "output_dir = f\"/content/drive/My Drive/_AMPPD TEAM SHARED FOLDER/MGMs/Facial recognition/Nelms Results/results-{tolerance}/\"\n",
        "if not os.path.exists(output_dir):\n",
        "  os.makedirs(output_dir)\n",
        "\n",
        "for filename in os.listdir(video_dir):\n",
        "  if filename.endswith(\".mp4\"):\n",
        "    print(filename)\n",
        "    output = output_dir + filename.replace(\".mp4\", \".tsv\")\n",
        "    do_recognize(video_dir + filename, output, tolerance)"
      ],
      "execution_count": null,
      "outputs": []
    },
    {
      "cell_type": "code",
      "metadata": {
        "id": "uNjI-s2_DjN1",
        "colab": {
          "base_uri": "https://localhost:8080/",
          "height": 67,
          "referenced_widgets": [
            "69cd7f401e214e468c971f4ff93e3ca7",
            "d4a883f11fd24e7f8385c89f2f5b735c",
            "ced86ed23bc84fb0b58961482a014c82",
            "97ece86dfd73495e9b6b93691bed717e",
            "b69d57209a554150b368e6b1758b061d",
            "786b65bca7414c55a2fd7a66776d12a2",
            "78923440879e463494c8aa0d6309951a",
            "ad5e257fe3d649499a6bddd747d4a1d0"
          ]
        },
        "outputId": "71575f5b-ddb9-44f5-e6c0-254d5006f4d6"
      },
      "source": [
        "# Run on one video\n",
        "tolerance = 0.4\n",
        "filename = \"/content/drive/My Drive/_AMPPD TEAM SHARED FOLDER/MGMs/Facial recognition/CharlieNelmsVideos/Repositioning HBCUs for the Future A Conversation with Foundations.mp4\"\n",
        "output = f\"/content/drive/My Drive/_AMPPD TEAM SHARED FOLDER/MGMs/Facial recognition/Nelms Results/results-{tolerance}/Repositioning HBCUs.tsv\"\n",
        "do_recognize(filename, output, tolerance)"
      ],
      "execution_count": null,
      "outputs": [
        {
          "output_type": "display_data",
          "data": {
            "application/vnd.jupyter.widget-view+json": {
              "model_id": "69cd7f401e214e468c971f4ff93e3ca7",
              "version_minor": 0,
              "version_major": 2
            },
            "text/plain": [
              "HBox(children=(FloatProgress(value=0.0, max=114082.0), HTML(value='')))"
            ]
          },
          "metadata": {
            "tags": []
          }
        },
        {
          "output_type": "stream",
          "text": [
            "\n"
          ],
          "name": "stdout"
        }
      ]
    },
    {
      "cell_type": "markdown",
      "metadata": {
        "id": "OJ-DErHpQjO0"
      },
      "source": [
        "# Merge times"
      ]
    },
    {
      "cell_type": "markdown",
      "metadata": {
        "id": "nEpnquhRnlao"
      },
      "source": [
        "These cells merge adjacent timestamps within a certain `threshold`. For example, if a known face was seen at `0:05, 0:06, 0:08, 0:11`, merging with a threshold of 2 seconds would give `0:05, 0:11` as a result."
      ]
    },
    {
      "cell_type": "markdown",
      "metadata": {
        "id": "hx86C-Xboj75"
      },
      "source": [
        ""
      ]
    },
    {
      "cell_type": "code",
      "metadata": {
        "id": "4tDjcVCu28fl"
      },
      "source": [
        "threshold = 2 #in seconds"
      ],
      "execution_count": null,
      "outputs": []
    },
    {
      "cell_type": "code",
      "metadata": {
        "id": "HCHYt-yrQkbL",
        "colab": {
          "base_uri": "https://localhost:8080/",
          "height": 34
        },
        "outputId": "5de308ff-5592-431f-9704-16fba6f5ba6c"
      },
      "source": [
        "%cd \"/content/drive/My Drive/_AMPPD TEAM SHARED FOLDER/MGMs/Facial recognition\"\n",
        "\n",
        "timecode_file = \"results-0.5/ThingsRemembered.txt\"\n",
        "with open(timecode_file, \"r\") as f:\n",
        "  timecodes = [t.strip() for t in f.readlines()]\n",
        "\n",
        "\n",
        "seconds = [time_to_seconds(t) for t in timecodes]\n",
        "\n",
        "remove = []\n",
        "for i in range(len(seconds)-2, 0, -1):\n",
        "  if seconds[i+1] - seconds[i] <= threshold:\n",
        "    remove.append(i+1)\n",
        "\n",
        "for r in remove:\n",
        "  del seconds[r]\n",
        "\n",
        "new_timecodes = [seconds_to_timecode(s) for s in seconds]\n",
        "with open(\"results-0.5/ThingsRemembered-merged.txt\", \"w\") as f:\n",
        "  for t in new_timecodes:\n",
        "    f.write('%s\\n' % t)"
      ],
      "execution_count": null,
      "outputs": [
        {
          "output_type": "stream",
          "text": [
            "/content/drive/My Drive/_AMPPD TEAM SHARED FOLDER/MGMs/Facial recognition\n"
          ],
          "name": "stdout"
        }
      ]
    },
    {
      "cell_type": "markdown",
      "metadata": {
        "id": "pVcGF2DoheRU"
      },
      "source": [
        "# Video output test"
      ]
    },
    {
      "cell_type": "markdown",
      "metadata": {
        "id": "8BBEnzzNnqdN"
      },
      "source": [
        "Testing video output for result visualization. This does not work."
      ]
    },
    {
      "cell_type": "code",
      "metadata": {
        "id": "co3UQVUPVOCC",
        "colab": {
          "base_uri": "https://localhost:8080/",
          "height": 197
        },
        "outputId": "d64ce68a-1c0e-44e8-f7d4-aab6ec78ab4d"
      },
      "source": [
        "from matplotlib import pyplot as plt\n",
        "\n",
        "def do_recognize(video_path, output_file):\n",
        "  # Initialize some variables\n",
        "  face_locations = []\n",
        "  face_encodings = []\n",
        "  face_names = []\n",
        "  frame_number = 0\n",
        "\n",
        "  # Results\n",
        "  results = []\n",
        "\n",
        "  # Open the input movie file\n",
        "  input_movie = cv2.VideoCapture(video_path)\n",
        "  length = int(input_movie.get(cv2.CAP_PROP_FRAME_COUNT))\n",
        "  fps = input_movie.get(cv2.CAP_PROP_FPS)\n",
        "  width = int(input_movie.get(cv2.CAP_PROP_FRAME_WIDTH))\n",
        "  height = int(input_movie.get(cv2.CAP_PROP_FRAME_HEIGHT))\n",
        "\n",
        "  # Create an output movie file (make sure resolution/frame rate matches input video!)\n",
        "  #fourcc = cv2.VideoWriter_fourcc(*'MP4V')\n",
        "  #output_movie = cv2.VideoWriter('output.mp4', fourcc, fps, (width, height))\n",
        "\n",
        "  for i in tqdm(range(0,length)):\n",
        "      # Grab a single frame of video\n",
        "      ret, frame = input_movie.read()\n",
        "      frame_number += 1\n",
        "      # Quit when the input video file ends\n",
        "      if not ret:\n",
        "          break\n",
        "\n",
        "      # Skip FR in every nth frame\n",
        "      n = int(fps)\n",
        "      if frame_number % n != 0:\n",
        "        # Write the resulting image to the output video file\n",
        "        # print(\"Writing frame {} / {}\".format(frame_number, length))\n",
        "        # output_movie.write(frame)\n",
        "        continue\n",
        "\n",
        "      # Convert the image from BGR color (which OpenCV uses) to RGB color (which face_recognition uses)\n",
        "      rgb_frame = frame[:, :, ::-1]\n",
        "\n",
        "      # Find all the faces and face encodings in the current frame of video\n",
        "      face_locations = face_recognition.face_locations(rgb_frame)\n",
        "      face_encodings = face_recognition.face_encodings(rgb_frame, face_locations)\n",
        "\n",
        "      face_names = []\n",
        "      for face_encoding in face_encodings:\n",
        "          # See if the face is a match for the known face(s)\n",
        "          match = face_recognition.compare_faces(known_faces, face_encoding, tolerance=0.40)\n",
        "          if any(match):\n",
        "            timecode = frame_to_time(frame_number, fps)\n",
        "            results.append(timecode)\n",
        "            face_names.append(\"HBW\")\n",
        "\n",
        "  # All done!\n",
        "  input_movie.release()\n",
        "  #output_movie.release()\n",
        "  cv2.destroyAllWindows()\n",
        "\n",
        "\n",
        "  with open(output_file, \"w\") as f:\n",
        "    for i in found_at:\n",
        "      f.write('%s\\n' % i)"
      ],
      "execution_count": null,
      "outputs": [
        {
          "output_type": "error",
          "ename": "KeyboardInterrupt",
          "evalue": "ignored",
          "traceback": [
            "\u001b[0;31m---------------------------------------------------------------------------\u001b[0m",
            "\u001b[0;31mKeyboardInterrupt\u001b[0m                         Traceback (most recent call last)",
            "\u001b[0;32m<ipython-input-19-090595136392>\u001b[0m in \u001b[0;36m<module>\u001b[0;34m()\u001b[0m\n\u001b[1;32m     17\u001b[0m         \u001b[0mprint\u001b[0m\u001b[0;34m(\u001b[0m\u001b[0;34m\"Done!\"\u001b[0m\u001b[0;34m)\u001b[0m\u001b[0;34m\u001b[0m\u001b[0;34m\u001b[0m\u001b[0m\n\u001b[1;32m     18\u001b[0m         \u001b[0;32mbreak\u001b[0m\u001b[0;34m\u001b[0m\u001b[0;34m\u001b[0m\u001b[0m\n\u001b[0;32m---> 19\u001b[0;31m     \u001b[0moutput_movie\u001b[0m\u001b[0;34m.\u001b[0m\u001b[0mwrite\u001b[0m\u001b[0;34m(\u001b[0m\u001b[0mframe\u001b[0m\u001b[0;34m)\u001b[0m\u001b[0;34m\u001b[0m\u001b[0;34m\u001b[0m\u001b[0m\n\u001b[0m",
            "\u001b[0;31mKeyboardInterrupt\u001b[0m: "
          ]
        }
      ]
    }
  ]
}