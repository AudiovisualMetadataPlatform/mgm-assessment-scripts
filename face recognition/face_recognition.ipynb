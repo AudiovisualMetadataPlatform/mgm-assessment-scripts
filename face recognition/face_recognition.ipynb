{
  "nbformat": 4,
  "nbformat_minor": 0,
  "metadata": {
    "colab": {
      "name": "face-recognition.ipynb",
      "provenance": [],
      "collapsed_sections": []
    },
    "kernelspec": {
      "name": "python3",
      "display_name": "Python 3"
    },
    "accelerator": "GPU"
  },
  "cells": [
    {
      "cell_type": "markdown",
      "metadata": {
        "id": "fJFQrKql9mMb"
      },
      "source": [
        "#To Use\n",
        "First run all **Installs & Imports** cells\n",
        "\n",
        "Then, for training run all **Train** cells with the appropriate variable adjusted (see below)\n",
        "\n",
        "For recognition, run all **Recognition Functions** cells, then either the \"all videos\" or \"one video\" cell under **Run on videos**\n",
        "\n",
        "#Docs\n",
        "`face_recognition` library docs: https://face-recognition.readthedocs.io/en/latest/face_recognition.html"
      ]
    },
    {
      "cell_type": "markdown",
      "metadata": {
        "id": "c3Qe18173kHu"
      },
      "source": [
        "# Installs & Imports"
      ]
    },
    {
      "cell_type": "code",
      "metadata": {
        "id": "clCoXzNU_T6O"
      },
      "source": [
        "from google.colab import drive\n",
        "drive.mount('/content/drive')"
      ],
      "execution_count": null,
      "outputs": []
    },
    {
      "cell_type": "code",
      "metadata": {
        "id": "_pnvc1I3WAiu"
      },
      "source": [
        "%ls\n",
        "%cd \"drive/My Drive/_AMPPD TEAM SHARED FOLDER/MGMs/Facial recognition\""
      ],
      "execution_count": null,
      "outputs": []
    },
    {
      "cell_type": "code",
      "metadata": {
        "id": "TEmwkx1o3c2A"
      },
      "source": [
        "!pip install face_recognition\n",
        "!pip install opencv-python\n",
        "!cd \"/drive/My Drive/_AMPPD TEAM SHARED FOLDER\""
      ],
      "execution_count": null,
      "outputs": []
    },
    {
      "cell_type": "code",
      "metadata": {
        "id": "oXO4HQKS9ULt"
      },
      "source": [
        "import face_recognition\n",
        "import cv2\n",
        "import os \n",
        "import pickle\n",
        "from tqdm.notebook import tqdm\n",
        "\n",
        "%cd \"/content/drive/My Drive/_AMPPD TEAM SHARED FOLDER/MGMs/Facial recognition\""
      ],
      "execution_count": null,
      "outputs": []
    },
    {
      "cell_type": "markdown",
      "metadata": {
        "id": "VeEVN1SLwmMg"
      },
      "source": [
        "# Train"
      ]
    },
    {
      "cell_type": "markdown",
      "metadata": {
        "id": "B7nJZF_amJ2Q"
      },
      "source": [
        "These cells handle training a model on the images provided in for each name in `people`. Training images should be kept in a folder called `{name}Photos` where `{name}` is the label provided in `people`.\n"
      ]
    },
    {
      "cell_type": "code",
      "metadata": {
        "id": "wXN7wGYjwnrW"
      },
      "source": [
        "from sklearn import svm\n",
        "import os\n",
        "import face_recognition\n",
        "\n",
        "known_faces = [] \n",
        "\n",
        "# Labels\n",
        "people = [\"CharlieNelms\", \"HermanBWells\"]\n",
        "\n",
        "# Images\n",
        "for name in people:\n",
        "  image_dir = f\"/content/drive/My Drive/_AMPPD TEAM SHARED FOLDER/MGMs/Facial recognition/{name}Photos/\"\n",
        "  images = [f for f in os.listdir(image_dir) if os.path.isfile(image_dir+f)]\n",
        "  for img in tqdm(images):\n",
        "    path = f\"/content/drive/My Drive/_AMPPD TEAM SHARED FOLDER/MGMs/Facial recognition/{name}Photos/\" + img\n",
        "    face = face_recognition.load_image_file(path)\n",
        "    face_bounding_boxes = face_recognition.face_locations(face) # Find faces in the picture\n",
        "\n",
        "    #If training image contains exactly one face\n",
        "    if len(face_bounding_boxes) == 1:\n",
        "      face_enc = face_recognition.face_encodings(face)[0]\n",
        "      # Add face encoding for current image with corresponding label (name) to the training data\n",
        "      known_faces.append({\"encoding\": face_enc, \"name\": name})\n",
        "    else:\n",
        "      print(img + \" was skipped and can't be used for training\")"
      ],
      "execution_count": null,
      "outputs": []
    },
    {
      "cell_type": "code",
      "metadata": {
        "id": "A3xZZR7d2inm"
      },
      "source": [
        "# Save model to file\n",
        "\n",
        "import pickle\n",
        "\n",
        "pickle.dump(known_faces, open(\"model.p\", \"wb\"))"
      ],
      "execution_count": null,
      "outputs": []
    },
    {
      "cell_type": "markdown",
      "metadata": {
        "id": "PSejuyvv0PtQ"
      },
      "source": [
        "# Recognition Functions"
      ]
    },
    {
      "cell_type": "markdown",
      "metadata": {
        "id": "e0VQ35TOmzns"
      },
      "source": [
        "These cells define functions for recognizing faces in provided `video_path` and outputs the resulting timestamps to `output_file`. Uses faces known by the model specified in `model`."
      ]
    },
    {
      "cell_type": "code",
      "metadata": {
        "id": "5Vv4Was20QD0"
      },
      "source": [
        "# UTILITY FUNCTIONS\n",
        "\n",
        "def frame_to_time(frames, fps):\n",
        "  h =  int(frames/(3600*fps))\n",
        "  m = int(frames/(60*fps) % 60)\n",
        "  s = int(frames/fps % 60)\n",
        "  return ( \"%02d:%02d:%02d\" % ( h, m, s))\n",
        "\n",
        "def time_to_frame(timecode, fps):\n",
        "  h,m,s = timecode.split(\":\")\n",
        "  seconds = (int(h)*3600) + (int(m)*60) + int(s)\n",
        "  return seconds*fps\n",
        "\n",
        "def time_to_seconds(timecode):\n",
        "  h,m,s = timecode.split(\":\")\n",
        "  return (int(h)*3600) + (int(m)*60) + int(s)\n",
        "\n",
        "def seconds_to_timecode(seconds):\n",
        "  h = seconds/3600\n",
        "  m = (seconds/60) % 60\n",
        "  s = seconds % 60\n",
        "  return ( \"%02d:%02d:%02d\" % ( h, m, s))"
      ],
      "execution_count": null,
      "outputs": []
    },
    {
      "cell_type": "code",
      "metadata": {
        "id": "tsNVKcGYw6WA"
      },
      "source": [
        "# MAIN RECOGNITION FUNCTION \n",
        "\n",
        "from matplotlib import pyplot as plt\n",
        "import pickle\n",
        "\n",
        "def do_recognize(video_path, output_file, tolerance):\n",
        "  # Initialize some variables\n",
        "  face_locations = []\n",
        "  face_encodings = []\n",
        "  frame_number = 0\n",
        "\n",
        "  # Load Model\n",
        "  model = pickle.load(open(\"model.p\", \"rb\"))\n",
        "  known_faces = [face[\"encoding\"] for face in model]\n",
        "  known_names = [face[\"name\"] for face in model]\n",
        "\n",
        "  # Initialize results list\n",
        "  results = []\n",
        "\n",
        "  # Open the input movie file\n",
        "  input_movie = cv2.VideoCapture(video_path)\n",
        "  length = int(input_movie.get(cv2.CAP_PROP_FRAME_COUNT))\n",
        "  fps = input_movie.get(cv2.CAP_PROP_FPS)\n",
        "\n",
        "  for i in tqdm(range(0,length)):\n",
        "      # Grab a single frame of video\n",
        "      ret, frame = input_movie.read()\n",
        "      frame_number += 1\n",
        "      # Quit when the input video file ends\n",
        "      if not ret:\n",
        "          break\n",
        "\n",
        "      # Skip FR in every nth frame\n",
        "      n = int(fps)\n",
        "      if frame_number % n != 0:\n",
        "        continue\n",
        "\n",
        "      # Convert the image from BGR color (which OpenCV uses) to RGB color (which face_recognition uses)\n",
        "      rgb_frame = frame[:, :, ::-1]\n",
        "\n",
        "      # Find all the faces and face encodings in the current frame of video\n",
        "      face_locations = face_recognition.face_locations(rgb_frame)\n",
        "      face_encodings = face_recognition.face_encodings(rgb_frame, face_locations)\n",
        "\n",
        "      for face_encoding in face_encodings:\n",
        "          # See if the face is a match for the known face(s)\n",
        "          match = face_recognition.compare_faces(known_faces, face_encoding, tolerance=tolerance)\n",
        "          if any(match):\n",
        "            encoding_index = match.index(True)\n",
        "            timecode = frame_to_time(frame_number, fps)\n",
        "            results.append([timecode, known_names[encoding_index]])\n",
        "\n",
        "  # All done!\n",
        "  input_movie.release()\n",
        "  cv2.destroyAllWindows()\n",
        "\n",
        "\n",
        "  with open(output_file, \"w\") as f:\n",
        "    for r in results:\n",
        "      f.write(f\"{r[0]}\\t{r[1]}\\n\") "
      ],
      "execution_count": null,
      "outputs": []
    },
    {
      "cell_type": "markdown",
      "metadata": {
        "id": "0hy42x-KDoBn"
      },
      "source": [
        "# Run on videos"
      ]
    },
    {
      "cell_type": "markdown",
      "metadata": {
        "id": "TjDkQpY6nLCq"
      },
      "source": [
        "These cells run the above-defined recognition functions. \n",
        "\n",
        "\n",
        "The first runs recognition on all the videos in the `video_dir` folder & output all the results to `output_dir`\n",
        "\n",
        "The second runs on a single video specified by `filename` and outputs to the specified `output` file.\n"
      ]
    },
    {
      "cell_type": "code",
      "metadata": {
        "id": "yjSgrdsuC8CN"
      },
      "source": [
        "# All videos \n",
        "import os\n",
        "\n",
        "tolerance = 0.4\n",
        "video_dir = \"/content/drive/My Drive/_AMPPD TEAM SHARED FOLDER/MGMs/Facial recognition/CharlieNelmsVideos/\"\n",
        "\n",
        "output_dir = f\"/content/drive/My Drive/_AMPPD TEAM SHARED FOLDER/MGMs/Facial recognition/Nelms Results/results-{tolerance}/\"\n",
        "if not os.path.exists(output_dir):\n",
        "  os.makedirs(output_dir)\n",
        "\n",
        "for filename in os.listdir(video_dir):\n",
        "  if filename.endswith(\".mp4\"):\n",
        "    print(filename)\n",
        "    output = output_dir + filename.replace(\".mp4\", \".tsv\")\n",
        "    do_recognize(video_dir + filename, output, tolerance)"
      ],
      "execution_count": null,
      "outputs": []
    },
    {
      "cell_type": "code",
      "metadata": {
        "id": "uNjI-s2_DjN1"
      },
      "source": [
        "# Run on one video\n",
        "tolerance = 0.4\n",
        "filename = \"/content/drive/My Drive/_AMPPD TEAM SHARED FOLDER/MGMs/Facial recognition/CharlieNelmsVideos/Repositioning HBCUs for the Future A Conversation with Foundations.mp4\"\n",
        "output = f\"/content/drive/My Drive/_AMPPD TEAM SHARED FOLDER/MGMs/Facial recognition/Nelms Results/results-{tolerance}/Repositioning HBCUs.tsv\"\n",
        "do_recognize(filename, output, tolerance)"
      ],
      "execution_count": null,
      "outputs": []
    },
    {
      "cell_type": "markdown",
      "metadata": {
        "id": "OJ-DErHpQjO0"
      },
      "source": [
        "# Merge times"
      ]
    },
    {
      "cell_type": "markdown",
      "metadata": {
        "id": "nEpnquhRnlao"
      },
      "source": [
        "These cells merge adjacent timestamps within a certain `threshold`. For example, if a known face was seen at `0:05, 0:06, 0:08, 0:11`, merging with a threshold of 2 seconds would give `0:05, 0:11` as a result."
      ]
    },
    {
      "cell_type": "markdown",
      "metadata": {
        "id": "hx86C-Xboj75"
      },
      "source": [
        ""
      ]
    },
    {
      "cell_type": "code",
      "metadata": {
        "id": "4tDjcVCu28fl"
      },
      "source": [
        "threshold = 2 #in seconds"
      ],
      "execution_count": null,
      "outputs": []
    },
    {
      "cell_type": "code",
      "metadata": {
        "id": "HCHYt-yrQkbL"
      },
      "source": [
        "%cd \"/content/drive/My Drive/_AMPPD TEAM SHARED FOLDER/MGMs/Facial recognition\"\n",
        "\n",
        "timecode_file = \"results-0.5/ThingsRemembered.txt\"\n",
        "with open(timecode_file, \"r\") as f:\n",
        "  timecodes = [t.strip() for t in f.readlines()]\n",
        "\n",
        "\n",
        "seconds = [time_to_seconds(t) for t in timecodes]\n",
        "\n",
        "remove = []\n",
        "for i in range(len(seconds)-2, 0, -1):\n",
        "  if seconds[i+1] - seconds[i] <= threshold:\n",
        "    remove.append(i+1)\n",
        "\n",
        "for r in remove:\n",
        "  del seconds[r]\n",
        "\n",
        "new_timecodes = [seconds_to_timecode(s) for s in seconds]\n",
        "with open(\"results-0.5/ThingsRemembered-merged.txt\", \"w\") as f:\n",
        "  for t in new_timecodes:\n",
        "    f.write('%s\\n' % t)"
      ],
      "execution_count": null,
      "outputs": []
    },
    {
      "cell_type": "markdown",
      "metadata": {
        "id": "pVcGF2DoheRU"
      },
      "source": [
        "# Video output test"
      ]
    },
    {
      "cell_type": "markdown",
      "metadata": {
        "id": "8BBEnzzNnqdN"
      },
      "source": [
        "Testing video output for result visualization. This does not work."
      ]
    },
    {
      "cell_type": "code",
      "metadata": {
        "id": "co3UQVUPVOCC"
      },
      "source": [
        "from matplotlib import pyplot as plt\n",
        "\n",
        "def do_recognize(video_path, output_file):\n",
        "  # Initialize some variables\n",
        "  face_locations = []\n",
        "  face_encodings = []\n",
        "  face_names = []\n",
        "  frame_number = 0\n",
        "\n",
        "  # Results\n",
        "  results = []\n",
        "\n",
        "  # Open the input movie file\n",
        "  input_movie = cv2.VideoCapture(video_path)\n",
        "  length = int(input_movie.get(cv2.CAP_PROP_FRAME_COUNT))\n",
        "  fps = input_movie.get(cv2.CAP_PROP_FPS)\n",
        "  width = int(input_movie.get(cv2.CAP_PROP_FRAME_WIDTH))\n",
        "  height = int(input_movie.get(cv2.CAP_PROP_FRAME_HEIGHT))\n",
        "\n",
        "  # Create an output movie file (make sure resolution/frame rate matches input video!)\n",
        "  #fourcc = cv2.VideoWriter_fourcc(*'MP4V')\n",
        "  #output_movie = cv2.VideoWriter('output.mp4', fourcc, fps, (width, height))\n",
        "\n",
        "  for i in tqdm(range(0,length)):\n",
        "      # Grab a single frame of video\n",
        "      ret, frame = input_movie.read()\n",
        "      frame_number += 1\n",
        "      # Quit when the input video file ends\n",
        "      if not ret:\n",
        "          break\n",
        "\n",
        "      # Skip FR in every nth frame\n",
        "      n = int(fps)\n",
        "      if frame_number % n != 0:\n",
        "        # Write the resulting image to the output video file\n",
        "        # print(\"Writing frame {} / {}\".format(frame_number, length))\n",
        "        # output_movie.write(frame)\n",
        "        continue\n",
        "\n",
        "      # Convert the image from BGR color (which OpenCV uses) to RGB color (which face_recognition uses)\n",
        "      rgb_frame = frame[:, :, ::-1]\n",
        "\n",
        "      # Find all the faces and face encodings in the current frame of video\n",
        "      face_locations = face_recognition.face_locations(rgb_frame)\n",
        "      face_encodings = face_recognition.face_encodings(rgb_frame, face_locations)\n",
        "\n",
        "      face_names = []\n",
        "      for face_encoding in face_encodings:\n",
        "          # See if the face is a match for the known face(s)\n",
        "          match = face_recognition.compare_faces(known_faces, face_encoding, tolerance=0.40)\n",
        "          if any(match):\n",
        "            timecode = frame_to_time(frame_number, fps)\n",
        "            results.append(timecode)\n",
        "            face_names.append(\"HBW\")\n",
        "\n",
        "  # All done!\n",
        "  input_movie.release()\n",
        "  #output_movie.release()\n",
        "  cv2.destroyAllWindows()\n",
        "\n",
        "\n",
        "  with open(output_file, \"w\") as f:\n",
        "    for i in found_at:\n",
        "      f.write('%s\\n' % i)"
      ],
      "execution_count": null,
      "outputs": []
    }
  ]
}